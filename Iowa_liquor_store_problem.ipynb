{
 "cells": [
  {
   "cell_type": "markdown",
   "metadata": {},
   "source": [
    "\n",
    "# Getting started\n",
    "\n",
    "Once you've chosen your scenario, download the data from the Iowa website in csv format. Start by loading the data with pandas. You may need to parse the date columns appropriately."
   ]
  },
  {
   "cell_type": "code",
   "execution_count": 4,
   "metadata": {
    "collapsed": true
   },
   "outputs": [],
   "source": [
    "import pandas as pd\n",
    "\n",
    "## Load the data into a DataFrame\n",
    "# pd.read_csv()\n",
    "\n",
    "## Transform the dates if needed, e.g.\n",
    "# df[\"Date\"] = pd.to_datetime(df[\"Date\"], format=\"%m-%d-%y\")\n",
    "import numpy as np\n",
    "import matplotlib.pyplot as plt\n",
    "import pandas as pd\n",
    "import statsmodels.api as sm\n",
    "import seaborn as sns\n",
    "from scipy import stats\n",
    "from sklearn.metrics import mean_squared_error\n",
    "from sklearn.preprocessing import LabelEncoder\n",
    "from sklearn.cross_validation import train_test_split\n",
    "from sklearn.linear_model import LinearRegression\n",
    "\n"
   ]
  },
  {
   "cell_type": "code",
   "execution_count": null,
   "metadata": {
    "collapsed": true
   },
   "outputs": [],
   "source": [
    "dataset=pd.read_csv('iowa_liquor_sales_proj_2')"
   ]
  },
  {
   "cell_type": "markdown",
   "metadata": {},
   "source": [
    "# Explore the data\n",
    "\n",
    "Perform some exploratory statistical analysis and make some plots, such as histograms of transaction totals, bottles sold, etc."
   ]
  },
  {
   "cell_type": "code",
   "execution_count": 1,
   "metadata": {
    "collapsed": true
   },
   "outputs": [],
   "source": [
    "\n",
    "dataset_with_target=dataset.copy()\n",
    "dataset_with_target.dropna(inplace=True)\n",
    "\n",
    "\n",
    "dataset_with_target['Zip Code'] = dataset_with_target['Zip Code'].replace('712-2',7122)  \n",
    "dataset_with_target['Zip Code'] = dataset_with_target['Zip Code'].astype('int32')\n",
    "dataset_with_target['Sale (Dollars)'] = dataset_with_target['Sale (Dollars)'].replace({'\\$':''}, regex=True)\n",
    "dataset_with_target['Sale (Dollars)'] = dataset_with_target['Sale (Dollars)'].astype('float32')\n",
    "dataset_with_target['State Bottle Cost'] = dataset_with_target['State Bottle Cost'].replace({'\\$':''}, regex=True)\n",
    "dataset_with_target['State Bottle Cost'] = dataset_with_target['State Bottle Cost'].astype('float32')\n",
    "dataset_with_target['State Bottle Retail'] = dataset_with_target['State Bottle Retail'].replace({'\\$':''}, regex=True)\n",
    "dataset_with_target['State Bottle Retail'] = dataset_with_target['State Bottle Retail'].astype('float32')\n",
    "dataset_with_target['City']=dataset_with_target['City'].str.lower()\n",
    "dataset_with_target['Category Name']=dataset_with_target[ 'Category Name'].str.lower()\n",
    "dataset_with_target['County']=dataset_with_target['County'].str.lower()\n",
    "dataset_with_target['Item Description']=dataset_with_target['Item Description'].str.lower()"
   ]
  },
  {
   "cell_type": "code",
   "execution_count": null,
   "metadata": {
    "collapsed": true
   },
   "outputs": [],
   "source": [
    "dataset_with_target['Profit in %']=(dataset_with_target['State Bottle Retail']-dataset_with_target['State Bottle Cost'])*(dataset_with_target['State Bottle Retail']**(-1))*100\n",
    "dataset_with_target['Volume Sold (Mililiters)']=dataset_with_target['Volume Sold (Liters)']*1000\n",
    "dataset_with_target['Volume Sold (Mililiters)'] = dataset_with_target['Volume Sold (Mililiters)'].apply(lambda x: (x-100)/2507900)\n",
    "dataset_with_target['Sale (Dollars)'] = dataset_with_target['Sale (Dollars)'].apply(lambda x: (x-1.34)/36390.66)\n"
   ]
  },
  {
   "cell_type": "code",
   "execution_count": null,
   "metadata": {
    "collapsed": true
   },
   "outputs": [],
   "source": [
    "print(dataset_with_target['Sale (Dollars)'].describe())\n",
    "print(dataset_with_target['State Bottle Cost'].describe())\n",
    "print(dataset_with_target['State Bottle Retail'].describe())\n",
    "print(dataset_with_target['Profit in %'].describe())\n"
   ]
  },
  {
   "cell_type": "markdown",
   "metadata": {},
   "source": [
    "# Record your findings\n",
    "\n",
    "Be sure to write out anything observations from your exploratory analysis.\n"
   ]
  },
  {
   "cell_type": "markdown",
   "metadata": {
    "collapsed": true
   },
   "source": [
    "The were little null values \n",
    "some data types needed to be converted "
   ]
  },
  {
   "cell_type": "markdown",
   "metadata": {},
   "source": [
    "# Mine the data\n",
    "\n",
    "Now you are ready to compute the variables you will use for your regression from the data. For example, you may want to compute total sales per store from Jan to March of 2015, mean price per bottle, etc. Refer to the readme for more ideas appropriate to your scenario.\n",
    "\n",
    "Pandas is your friend for this task. Take a look at the operations here for ideas on how to make the best use of pandas and feel free to search for blog and Stack Overflow posts to help you group data by certain variables and compute sums, means, etc. You may find it useful to create a new data frame to house this summary data.\n",
    " \n"
   ]
  },
  {
   "cell_type": "code",
   "execution_count": null,
   "metadata": {
    "collapsed": true
   },
   "outputs": [],
   "source": [
    "df1=dataset_with_target.groupby('City')[('Sale (Dollars)')].sum().reset_index()\n",
    "df1['Sale (Dollars)']=df1['Sale (Dollars)'].apply(lambda x: (x*36390.66)+1.34)\n",
    "df2=dataset_with_target.groupby('Category Name')[('Sale (Dollars)')].sum().reset_index()\n",
    "df2['Sale (Dollars)']= df2['Sale (Dollars)'].apply(lambda x:(x*36390.66)+1.34)\n",
    "\n",
    "\n",
    "\n",
    "s1= df1[df1['Sale (Dollars)'] > 500000].sort_values(by='Sale (Dollars)',ascending=True)\n",
    "y_pos1 = np.arange(len(s1)) \n",
    "list1=['Des Moines', 'Cedar Rapids','Davenport','Iowa City','Waterloo','Sioux City','Council Bluffs','West Des Moines','Dubuque','Ames','Ankeny','Bettendorf','Cedar Falls','Coralville','Windsor Heights','Mason City','Fort Dodge']\n",
    "plt.barh(y_pos1,s1['Sale (Dollars)'], align='center', alpha=0.5)\n",
    "list1.reverse()\n",
    "plt.yticks(y_pos1, list1)\n",
    "plt.xlabel('Sales')\n",
    "plt.title('Sales per City')\n",
    "plt.show()\n",
    "\n",
    "s2= df2[df2['Sale (Dollars)'] > 500000].sort_values(by='Sale (Dollars)',ascending=True)\n",
    "y_pos2 = np.arange(len(s2)) \n",
    "plt.barh(y_pos2,s2['Sale (Dollars)'], align='center', alpha=0.5)\n",
    "plt.yticks(y_pos2, df2['Category Name'])\n",
    "plt.xlabel('Sales')\n",
    "plt.title('Sales per Liquor')\n",
    "plt.show()"
   ]
  },
  {
   "cell_type": "markdown",
   "metadata": {},
   "source": [
    "# Refine the data\n",
    "\n",
    "Look for any statistical relationships, correlations, or other relevant properties of the dataset."
   ]
  },
  {
   "cell_type": "markdown",
   "metadata": {
    "collapsed": true
   },
   "source": [
    "There were little correlation amongst variable except the odbious ones like volume sold and sales\n"
   ]
  },
  {
   "cell_type": "markdown",
   "metadata": {},
   "source": [
    "# Build your models\n",
    "\n",
    "Using scikit-learn or statsmodels, build the necessary models for your scenario. Evaluate model fit."
   ]
  },
  {
   "cell_type": "code",
   "execution_count": null,
   "metadata": {
    "collapsed": true
   },
   "outputs": [],
   "source": [
    "y0=dataset_with_target['Sale (Dollars)'].values\n",
    "\n",
    "X1=dataset_with_target['Store Number','County,','Category Name','Vendor Number','Item Description'\n",
    "                       ,'Bottle Volume (ml)','State Bottle Retail', 'Bottles Sold'].values\n",
    "\n",
    "\n",
    "labelencoder_X=LabelEncoder()\n",
    "X1[:,1]=labelencoder_X.fit_transform(X1[:,1])\n",
    "X1[:,2]=labelencoder_X.fit_transform(X1[:,2])\n",
    "X1[:,4]=labelencoder_X.fit_transform(X1[:,4])\n",
    "\n",
    "\n",
    "\n",
    "X_train1, X_test1, y_train1, y_test1 = train_test_split(X1, y0, test_size = 0.2, random_state = 0)\n",
    "regressor1=LinearRegression()\n",
    "regressor1.fit(X_train1,y_train1)\n",
    "\n",
    "\n",
    "#Predicting the test set results\n",
    "y_pred1=regressor1.predict(X_test1)\n",
    "\n"
   ]
  },
  {
   "cell_type": "markdown",
   "metadata": {},
   "source": [
    "Use statmodel to verify the model perfomance and features p values"
   ]
  },
  {
   "cell_type": "code",
   "execution_count": null,
   "metadata": {
    "collapsed": true
   },
   "outputs": [],
   "source": [
    "X_opt2=np.append(arr=np.ones((269258,1)).astype(int),values=X1,axis=1).astype(float)\n",
    "regressor_OLS1=sm.OLS(y0,X_opt2).fit()\n",
    "regressor_OLS1.summary()\n"
   ]
  },
  {
   "cell_type": "code",
   "execution_count": null,
   "metadata": {
    "collapsed": true
   },
   "outputs": [],
   "source": [
    "reg1 = reg = linear_model.Ridge(alpha=0.00000005, copy_X=True, fit_intercept=True, max_iter=None,\n",
    "      normalize=True, random_state=0, solver='auto', tol=0.000000000001)\n",
    "        \n",
    "reg1.fit(X_train1,y_train1)\n",
    "y_pred2=reg1.predict(X_test1)\n",
    "\n",
    "metrics.r2_score(y_pred = y_pred2,\n",
    "                 y_true = y_test1)\n"
   ]
  },
  {
   "cell_type": "markdown",
   "metadata": {},
   "source": [
    "Tried some regulation but the R square was lower than with simple linear regression"
   ]
  },
  {
   "cell_type": "markdown",
   "metadata": {},
   "source": [
    "# Plot your results\n",
    "\n",
    "Again make sure that you record any valuable information. For example, in the tax scenario, did you find the sales from the first three months of the year to be a good predictor of the total sales for the year? Plot the predictions versus the true values and discuss the successes and limitations of your models"
   ]
  },
  {
   "cell_type": "code",
   "execution_count": null,
   "metadata": {
    "collapsed": true
   },
   "outputs": [],
   "source": [
    "dataset2=pd.DataFrame()\n",
    "dataset2['Predictions']=y_pred1\n",
    "dataset2['Sales']=y_test1\n",
    "res=y_test1-y_pred1\n",
    "dataset2['Residual']=res\n",
    "dataset2['Residual abs']=abs(res)\n",
    "sns.set(color_codes=True)\n",
    "g = sns.lmplot(x=\"Residual\", y=\"Sales\", data=dataset2)\n",
    "plt.show()"
   ]
  },
  {
   "cell_type": "markdown",
   "metadata": {},
   "source": [
    "-R square is a limitation\n",
    "-The absolut errors is very good"
   ]
  },
  {
   "cell_type": "markdown",
   "metadata": {},
   "source": [
    "# Present the Results\n",
    "\n",
    "Present your conclusions and results. If you have more than one interesting model feel free to include more than one along with a discussion. Use your work in this notebook to prepare your write-up."
   ]
  },
  {
   "cell_type": "markdown",
   "metadata": {
    "collapsed": true
   },
   "source": [
    "-City and Category were importan factors\n",
    "-The profit margin is very constant, try some feature engineering but didn't  found very useful."
   ]
  },
  {
   "cell_type": "markdown",
   "metadata": {},
   "source": [
    "-Best cities Dubuque, Ames and Ankeny\n",
    "-Best volume 750 ml and up\n",
    "-Around to 10.00 since imported drinks sell very well"
   ]
  }
 ],
 "metadata": {
  "anaconda-cloud": {},
  "kernelspec": {
   "display_name": "Python [default]",
   "language": "python",
   "name": "python3"
  },
  "language_info": {
   "codemirror_mode": {
    "name": "ipython",
    "version": 3
   },
   "file_extension": ".py",
   "mimetype": "text/x-python",
   "name": "python",
   "nbconvert_exporter": "python",
   "pygments_lexer": "ipython3",
   "version": "3.6.3"
  }
 },
 "nbformat": 4,
 "nbformat_minor": 1
}
